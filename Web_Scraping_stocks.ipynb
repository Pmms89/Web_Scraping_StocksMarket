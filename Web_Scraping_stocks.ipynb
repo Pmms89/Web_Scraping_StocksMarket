{
 "cells": [
  {
   "cell_type": "markdown",
   "id": "552cf36b",
   "metadata": {},
   "source": [
    "# Web Scraping\n",
    "\n",
    "Getting data from [statusinvest](https://statusinvest.com.br) stock market and creating visualizing the rank stocks to find the best ones according to indexes stipulated."
   ]
  },
  {
   "cell_type": "code",
   "execution_count": 1,
   "id": "9e56c214",
   "metadata": {},
   "outputs": [],
   "source": [
    "import requests\n",
    "#from bs4 import BeautifulSoup\n",
    "from selenium import webdriver\n",
    "from time import sleep\n",
    "\n",
    "# Make a GET request to the webpage\n",
    "url = 'https://statusinvest.com.br/acoes/busca-avancada'\n",
    "\n",
    "driver = webdriver.Chrome()\n",
    "driver.get(url)\n",
    "sleep(1)\n",
    "\n",
    "from selenium.webdriver.common.by import By\n",
    "\n",
    "# Finding the elements\n",
    "button_find = driver.find_element(By.XPATH, '//*[@id=\"main-2\"]/div[3]/div/div/div/button[2]').click()\n",
    "sleep(1)\n",
    "\n",
    "# # Close advertise\n",
    "# button_adv = driver.find_element(By.XPATH, '/html/body/div[15]/div/div/div[1]/button').click()\n",
    "# sleep(2)\n",
    "\n",
    "# Download\n",
    "button_download = driver.find_element(By.XPATH, '//*[@id=\"main-2\"]/div[4]/div/div[1]/div[2]/a').click()"
   ]
  },
  {
   "cell_type": "code",
   "execution_count": 2,
   "id": "4a99ba28",
   "metadata": {},
   "outputs": [],
   "source": [
    "# Importing library\n",
    "import pandas as pd\n",
    "\n",
    "Path_name = '/Users/patriciasilva/Downloads/statusinvest-busca-avancada.csv'\n",
    "\n",
    "df = pd.read_csv(Path_name, sep=';')\n",
    "\n",
    "#df\n",
    "\n",
    "# Replacing the null values for the zero\n",
    "# Replace null values with zero\n",
    "df.fillna('0', inplace=True)\n",
    "\n",
    "#df.info(verbose=True, show_counts=True)"
   ]
  },
  {
   "cell_type": "code",
   "execution_count": 3,
   "id": "e1a10376",
   "metadata": {},
   "outputs": [],
   "source": [
    "# Define the function to convert number notation and format to two decimal places\n",
    "def convert_and_format(value):\n",
    "    # Replace comma with dot and vice versa\n",
    "    value = value.replace('.', '')\n",
    "    value = value.replace(',', '.')\n",
    "    # Convert string to float and format to two decimal places\n",
    "    #value = '{:.2f}'.format(float(value))\n",
    "    value = pd.to_numeric(value, errors='coerce')\n",
    "    return value\n",
    "\n",
    "# Apply the conversion and formatting function to the desired columns\n",
    "columns_to_convert = ['PRECO', 'DY', 'P/L', 'P/VP', 'P/ATIVOS', 'MARGEM BRUTA',\n",
    "       'MARGEM EBIT', 'MARG. LIQUIDA', 'P/EBIT', 'EV/EBIT',\n",
    "       'DIVIDA LIQUIDA / EBIT', 'DIV. LIQ. / PATRI.', 'PSR', 'P/CAP. GIRO',\n",
    "       'P. AT CIR. LIQ.', 'LIQ. CORRENTE', 'ROE', 'ROA', 'ROIC',\n",
    "       'PATRIMONIO / ATIVOS', 'PASSIVOS / ATIVOS', 'GIRO ATIVOS',\n",
    "       'CAGR RECEITAS 5 ANOS', 'CAGR LUCROS 5 ANOS', ' LIQUIDEZ MEDIA DIARIA',\n",
    "       ' VPA', ' LPA', ' PEG Ratio', ' VALOR DE MERCADO']\n",
    "df[columns_to_convert] = df[columns_to_convert].applymap(convert_and_format)\n",
    "\n",
    "# Convert the columns from string to numeric\n",
    "df[columns_to_convert] = df[columns_to_convert].apply(pd.to_numeric)\n",
    "\n",
    "# Print the modified DataFrame\n",
    "#df"
   ]
  },
  {
   "cell_type": "code",
   "execution_count": 4,
   "id": "3da6e33d",
   "metadata": {},
   "outputs": [
    {
     "data": {
      "text/html": [
       "<div>\n",
       "<style scoped>\n",
       "    .dataframe tbody tr th:only-of-type {\n",
       "        vertical-align: middle;\n",
       "    }\n",
       "\n",
       "    .dataframe tbody tr th {\n",
       "        vertical-align: top;\n",
       "    }\n",
       "\n",
       "    .dataframe thead th {\n",
       "        text-align: right;\n",
       "    }\n",
       "</style>\n",
       "<table border=\"1\" class=\"dataframe\">\n",
       "  <thead>\n",
       "    <tr style=\"text-align: right;\">\n",
       "      <th></th>\n",
       "      <th>TICKER</th>\n",
       "      <th>DY</th>\n",
       "      <th>P/L</th>\n",
       "      <th>MARGEM BRUTA</th>\n",
       "      <th>MARGEM EBIT</th>\n",
       "      <th>MARG. LIQUIDA</th>\n",
       "      <th>P/EBIT</th>\n",
       "      <th>EV/EBIT</th>\n",
       "      <th>DIVIDA LIQUIDA / EBIT</th>\n",
       "      <th>DIV. LIQ. / PATRI.</th>\n",
       "      <th>LIQ. CORRENTE</th>\n",
       "      <th>ROE</th>\n",
       "      <th>ROA</th>\n",
       "      <th>ROIC</th>\n",
       "      <th>PASSIVOS / ATIVOS</th>\n",
       "      <th>CAGR RECEITAS 5 ANOS</th>\n",
       "      <th>CAGR LUCROS 5 ANOS</th>\n",
       "      <th>VAL. GRAHAM</th>\n",
       "    </tr>\n",
       "  </thead>\n",
       "  <tbody>\n",
       "    <tr>\n",
       "      <th>0</th>\n",
       "      <td>AALR3</td>\n",
       "      <td>0.00</td>\n",
       "      <td>-10.90</td>\n",
       "      <td>30.83</td>\n",
       "      <td>-1.55</td>\n",
       "      <td>-22.50</td>\n",
       "      <td>-158.48</td>\n",
       "      <td>-209.03</td>\n",
       "      <td>-50.55</td>\n",
       "      <td>0.95</td>\n",
       "      <td>0.63</td>\n",
       "      <td>-27.28</td>\n",
       "      <td>-9.62</td>\n",
       "      <td>-1.08</td>\n",
       "      <td>0.63</td>\n",
       "      <td>0.13</td>\n",
       "      <td>0.00</td>\n",
       "      <td>NaN</td>\n",
       "    </tr>\n",
       "    <tr>\n",
       "      <th>1</th>\n",
       "      <td>ABCB4</td>\n",
       "      <td>6.62</td>\n",
       "      <td>4.53</td>\n",
       "      <td>32.56</td>\n",
       "      <td>26.15</td>\n",
       "      <td>18.94</td>\n",
       "      <td>3.28</td>\n",
       "      <td>3.28</td>\n",
       "      <td>0.00</td>\n",
       "      <td>0.00</td>\n",
       "      <td>1.39</td>\n",
       "      <td>15.40</td>\n",
       "      <td>1.53</td>\n",
       "      <td>0.00</td>\n",
       "      <td>0.90</td>\n",
       "      <td>18.70</td>\n",
       "      <td>13.83</td>\n",
       "      <td>43.652474</td>\n",
       "    </tr>\n",
       "    <tr>\n",
       "      <th>2</th>\n",
       "      <td>ABEV3</td>\n",
       "      <td>5.28</td>\n",
       "      <td>15.44</td>\n",
       "      <td>49.71</td>\n",
       "      <td>22.46</td>\n",
       "      <td>18.03</td>\n",
       "      <td>12.39</td>\n",
       "      <td>11.91</td>\n",
       "      <td>-0.48</td>\n",
       "      <td>-0.10</td>\n",
       "      <td>0.99</td>\n",
       "      <td>17.35</td>\n",
       "      <td>10.88</td>\n",
       "      <td>19.66</td>\n",
       "      <td>0.36</td>\n",
       "      <td>10.72</td>\n",
       "      <td>15.19</td>\n",
       "      <td>10.686908</td>\n",
       "    </tr>\n",
       "    <tr>\n",
       "      <th>3</th>\n",
       "      <td>ADHM3</td>\n",
       "      <td>0.00</td>\n",
       "      <td>-4.09</td>\n",
       "      <td>100.00</td>\n",
       "      <td>-13548.48</td>\n",
       "      <td>-18860.61</td>\n",
       "      <td>-5.69</td>\n",
       "      <td>-5.69</td>\n",
       "      <td>0.00</td>\n",
       "      <td>0.00</td>\n",
       "      <td>0.00</td>\n",
       "      <td>-31.47</td>\n",
       "      <td>-2571.90</td>\n",
       "      <td>22.61</td>\n",
       "      <td>82.72</td>\n",
       "      <td>0.00</td>\n",
       "      <td>0.00</td>\n",
       "      <td>3.216442</td>\n",
       "    </tr>\n",
       "    <tr>\n",
       "      <th>4</th>\n",
       "      <td>AERI3</td>\n",
       "      <td>0.00</td>\n",
       "      <td>-10.29</td>\n",
       "      <td>13.11</td>\n",
       "      <td>9.22</td>\n",
       "      <td>-4.20</td>\n",
       "      <td>4.69</td>\n",
       "      <td>8.56</td>\n",
       "      <td>3.87</td>\n",
       "      <td>1.14</td>\n",
       "      <td>1.93</td>\n",
       "      <td>-13.47</td>\n",
       "      <td>-3.53</td>\n",
       "      <td>8.73</td>\n",
       "      <td>0.74</td>\n",
       "      <td>0.00</td>\n",
       "      <td>0.00</td>\n",
       "      <td>NaN</td>\n",
       "    </tr>\n",
       "    <tr>\n",
       "      <th>...</th>\n",
       "      <td>...</td>\n",
       "      <td>...</td>\n",
       "      <td>...</td>\n",
       "      <td>...</td>\n",
       "      <td>...</td>\n",
       "      <td>...</td>\n",
       "      <td>...</td>\n",
       "      <td>...</td>\n",
       "      <td>...</td>\n",
       "      <td>...</td>\n",
       "      <td>...</td>\n",
       "      <td>...</td>\n",
       "      <td>...</td>\n",
       "      <td>...</td>\n",
       "      <td>...</td>\n",
       "      <td>...</td>\n",
       "      <td>...</td>\n",
       "      <td>...</td>\n",
       "    </tr>\n",
       "    <tr>\n",
       "      <th>596</th>\n",
       "      <td>WIZC3</td>\n",
       "      <td>7.80</td>\n",
       "      <td>8.08</td>\n",
       "      <td>57.99</td>\n",
       "      <td>36.42</td>\n",
       "      <td>11.37</td>\n",
       "      <td>2.52</td>\n",
       "      <td>2.83</td>\n",
       "      <td>0.31</td>\n",
       "      <td>0.29</td>\n",
       "      <td>1.09</td>\n",
       "      <td>28.86</td>\n",
       "      <td>4.92</td>\n",
       "      <td>21.99</td>\n",
       "      <td>0.59</td>\n",
       "      <td>12.37</td>\n",
       "      <td>-6.64</td>\n",
       "      <td>6.256097</td>\n",
       "    </tr>\n",
       "    <tr>\n",
       "      <th>597</th>\n",
       "      <td>WLMM3</td>\n",
       "      <td>5.83</td>\n",
       "      <td>6.08</td>\n",
       "      <td>13.34</td>\n",
       "      <td>7.75</td>\n",
       "      <td>5.94</td>\n",
       "      <td>4.67</td>\n",
       "      <td>5.17</td>\n",
       "      <td>0.17</td>\n",
       "      <td>0.04</td>\n",
       "      <td>3.41</td>\n",
       "      <td>18.85</td>\n",
       "      <td>14.45</td>\n",
       "      <td>15.45</td>\n",
       "      <td>0.23</td>\n",
       "      <td>32.16</td>\n",
       "      <td>0.00</td>\n",
       "      <td>35.187647</td>\n",
       "    </tr>\n",
       "    <tr>\n",
       "      <th>598</th>\n",
       "      <td>WLMM4</td>\n",
       "      <td>5.66</td>\n",
       "      <td>6.89</td>\n",
       "      <td>13.34</td>\n",
       "      <td>7.75</td>\n",
       "      <td>5.94</td>\n",
       "      <td>5.28</td>\n",
       "      <td>5.17</td>\n",
       "      <td>0.17</td>\n",
       "      <td>0.04</td>\n",
       "      <td>3.41</td>\n",
       "      <td>18.85</td>\n",
       "      <td>14.45</td>\n",
       "      <td>15.45</td>\n",
       "      <td>0.23</td>\n",
       "      <td>32.16</td>\n",
       "      <td>0.00</td>\n",
       "      <td>35.187647</td>\n",
       "    </tr>\n",
       "    <tr>\n",
       "      <th>599</th>\n",
       "      <td>YDUQ3</td>\n",
       "      <td>0.00</td>\n",
       "      <td>264.48</td>\n",
       "      <td>57.39</td>\n",
       "      <td>15.09</td>\n",
       "      <td>0.31</td>\n",
       "      <td>5.44</td>\n",
       "      <td>11.36</td>\n",
       "      <td>5.93</td>\n",
       "      <td>1.35</td>\n",
       "      <td>1.74</td>\n",
       "      <td>0.47</td>\n",
       "      <td>0.15</td>\n",
       "      <td>7.87</td>\n",
       "      <td>0.67</td>\n",
       "      <td>6.20</td>\n",
       "      <td>-49.08</td>\n",
       "      <td>3.359129</td>\n",
       "    </tr>\n",
       "    <tr>\n",
       "      <th>600</th>\n",
       "      <td>ZAMP3</td>\n",
       "      <td>0.00</td>\n",
       "      <td>-14.39</td>\n",
       "      <td>64.65</td>\n",
       "      <td>2.54</td>\n",
       "      <td>-2.13</td>\n",
       "      <td>12.10</td>\n",
       "      <td>18.87</td>\n",
       "      <td>6.78</td>\n",
       "      <td>0.45</td>\n",
       "      <td>1.11</td>\n",
       "      <td>-5.57</td>\n",
       "      <td>-1.97</td>\n",
       "      <td>3.13</td>\n",
       "      <td>0.65</td>\n",
       "      <td>15.36</td>\n",
       "      <td>0.00</td>\n",
       "      <td>NaN</td>\n",
       "    </tr>\n",
       "  </tbody>\n",
       "</table>\n",
       "<p>601 rows × 18 columns</p>\n",
       "</div>"
      ],
      "text/plain": [
       "    TICKER    DY     P/L  MARGEM BRUTA  MARGEM EBIT  MARG. LIQUIDA  P/EBIT  \\\n",
       "0    AALR3  0.00  -10.90         30.83        -1.55         -22.50 -158.48   \n",
       "1    ABCB4  6.62    4.53         32.56        26.15          18.94    3.28   \n",
       "2    ABEV3  5.28   15.44         49.71        22.46          18.03   12.39   \n",
       "3    ADHM3  0.00   -4.09        100.00    -13548.48      -18860.61   -5.69   \n",
       "4    AERI3  0.00  -10.29         13.11         9.22          -4.20    4.69   \n",
       "..     ...   ...     ...           ...          ...            ...     ...   \n",
       "596  WIZC3  7.80    8.08         57.99        36.42          11.37    2.52   \n",
       "597  WLMM3  5.83    6.08         13.34         7.75           5.94    4.67   \n",
       "598  WLMM4  5.66    6.89         13.34         7.75           5.94    5.28   \n",
       "599  YDUQ3  0.00  264.48         57.39        15.09           0.31    5.44   \n",
       "600  ZAMP3  0.00  -14.39         64.65         2.54          -2.13   12.10   \n",
       "\n",
       "     EV/EBIT  DIVIDA LIQUIDA / EBIT  DIV. LIQ. / PATRI.  LIQ. CORRENTE    ROE  \\\n",
       "0    -209.03                 -50.55                0.95           0.63 -27.28   \n",
       "1       3.28                   0.00                0.00           1.39  15.40   \n",
       "2      11.91                  -0.48               -0.10           0.99  17.35   \n",
       "3      -5.69                   0.00                0.00           0.00 -31.47   \n",
       "4       8.56                   3.87                1.14           1.93 -13.47   \n",
       "..       ...                    ...                 ...            ...    ...   \n",
       "596     2.83                   0.31                0.29           1.09  28.86   \n",
       "597     5.17                   0.17                0.04           3.41  18.85   \n",
       "598     5.17                   0.17                0.04           3.41  18.85   \n",
       "599    11.36                   5.93                1.35           1.74   0.47   \n",
       "600    18.87                   6.78                0.45           1.11  -5.57   \n",
       "\n",
       "         ROA   ROIC  PASSIVOS / ATIVOS  CAGR RECEITAS 5 ANOS  \\\n",
       "0      -9.62  -1.08               0.63                  0.13   \n",
       "1       1.53   0.00               0.90                 18.70   \n",
       "2      10.88  19.66               0.36                 10.72   \n",
       "3   -2571.90  22.61              82.72                  0.00   \n",
       "4      -3.53   8.73               0.74                  0.00   \n",
       "..       ...    ...                ...                   ...   \n",
       "596     4.92  21.99               0.59                 12.37   \n",
       "597    14.45  15.45               0.23                 32.16   \n",
       "598    14.45  15.45               0.23                 32.16   \n",
       "599     0.15   7.87               0.67                  6.20   \n",
       "600    -1.97   3.13               0.65                 15.36   \n",
       "\n",
       "     CAGR LUCROS 5 ANOS  VAL. GRAHAM  \n",
       "0                  0.00          NaN  \n",
       "1                 13.83    43.652474  \n",
       "2                 15.19    10.686908  \n",
       "3                  0.00     3.216442  \n",
       "4                  0.00          NaN  \n",
       "..                  ...          ...  \n",
       "596               -6.64     6.256097  \n",
       "597                0.00    35.187647  \n",
       "598                0.00    35.187647  \n",
       "599              -49.08     3.359129  \n",
       "600                0.00          NaN  \n",
       "\n",
       "[601 rows x 18 columns]"
      ]
     },
     "execution_count": 4,
     "metadata": {},
     "output_type": "execute_result"
    }
   ],
   "source": [
    "# Selecting the columns to analysis\n",
    "df = df[['TICKER', 'DY', 'P/L', 'MARGEM BRUTA',\n",
    "       'MARGEM EBIT', 'MARG. LIQUIDA', 'P/EBIT', 'EV/EBIT',\n",
    "       'DIVIDA LIQUIDA / EBIT', 'DIV. LIQ. / PATRI.', \n",
    "       'LIQ. CORRENTE', 'ROE', 'ROA', 'ROIC',\n",
    "       'PASSIVOS / ATIVOS', 'CAGR RECEITAS 5 ANOS', 'CAGR LUCROS 5 ANOS',\n",
    "       ' VPA', ' LPA']]\n",
    "\n",
    "# Adding Valuation de Graham index:\n",
    "df['VAL. GRAHAM'] = (22.5 * (df[' LPA'] * df[' VPA']))**(1/2)\n",
    "\n",
    "df = df[['TICKER', 'DY', 'P/L', 'MARGEM BRUTA',\n",
    "       'MARGEM EBIT', 'MARG. LIQUIDA', 'P/EBIT', 'EV/EBIT',\n",
    "       'DIVIDA LIQUIDA / EBIT', 'DIV. LIQ. / PATRI.', \n",
    "       'LIQ. CORRENTE', 'ROE', 'ROA', 'ROIC',\n",
    "       'PASSIVOS / ATIVOS', 'CAGR RECEITAS 5 ANOS', 'CAGR LUCROS 5 ANOS',\n",
    "       'VAL. GRAHAM']]\n",
    "\n",
    "df"
   ]
  },
  {
   "cell_type": "code",
   "execution_count": 6,
   "id": "655419b8",
   "metadata": {},
   "outputs": [
    {
     "data": {
      "application/vnd.plotly.v1+json": {
       "config": {
        "plotlyServerURL": "https://plot.ly"
       },
       "data": [
        {
         "alignmentgroup": "True",
         "hovertemplate": "Stock=%{x}<br>Score=%{y}<extra></extra>",
         "legendgroup": "",
         "marker": {
          "color": "#636efa",
          "pattern": {
           "shape": ""
          }
         },
         "name": "",
         "offsetgroup": "",
         "orientation": "v",
         "showlegend": false,
         "textposition": "auto",
         "type": "bar",
         "x": [
          "SOND6",
          "UNIP5",
          "CTCA3",
          "PDTC3",
          "TASA4",
          "LEVE3",
          "RSUL3",
          "GGBR3",
          "TASA3",
          "PETR3",
          "UNIP6",
          "PETR4",
          "UNIP3",
          "VALE3",
          "MTSA4",
          "GGBR4",
          "SOND3",
          "SOND5",
          "EEEL3",
          "KEPL3",
          "BRQB3",
          "FESA4",
          "CAMB3",
          "CAMB4",
          "NRTQ3",
          "EUCA4",
          "ROMI3",
          "ITSA3",
          "ITSA4",
          "SUZB3",
          "EQPA3",
          "GPAR3",
          "SLCE3",
          "EEEL4",
          "FESA3",
          "TKNO4",
          "EUCA3",
          "STTR3",
          "EQPA7",
          "CMIN3",
          "VULC3",
          "CORR4",
          "CORR3",
          "RSUL4",
          "MTSA3",
          "GOAU3",
          "PTCA11",
          "PTBL3",
          "PTCA3",
          "CSRN6"
         ],
         "xaxis": "x",
         "y": [
          16,
          15,
          15,
          15,
          15,
          15,
          15,
          15,
          15,
          15,
          15,
          15,
          15,
          15,
          15,
          15,
          15,
          15,
          15,
          15,
          15,
          14,
          14,
          14,
          14,
          14,
          14,
          14,
          14,
          14,
          14,
          14,
          14,
          14,
          14,
          14,
          14,
          14,
          14,
          14,
          14,
          14,
          14,
          14,
          14,
          13,
          13,
          13,
          13,
          13
         ],
         "yaxis": "y"
        }
       ],
       "layout": {
        "barmode": "group",
        "legend": {
         "tracegroupgap": 0
        },
        "template": {
         "data": {
          "bar": [
           {
            "error_x": {
             "color": "#2a3f5f"
            },
            "error_y": {
             "color": "#2a3f5f"
            },
            "marker": {
             "line": {
              "color": "#E5ECF6",
              "width": 0.5
             },
             "pattern": {
              "fillmode": "overlay",
              "size": 10,
              "solidity": 0.2
             }
            },
            "type": "bar"
           }
          ],
          "barpolar": [
           {
            "marker": {
             "line": {
              "color": "#E5ECF6",
              "width": 0.5
             },
             "pattern": {
              "fillmode": "overlay",
              "size": 10,
              "solidity": 0.2
             }
            },
            "type": "barpolar"
           }
          ],
          "carpet": [
           {
            "aaxis": {
             "endlinecolor": "#2a3f5f",
             "gridcolor": "white",
             "linecolor": "white",
             "minorgridcolor": "white",
             "startlinecolor": "#2a3f5f"
            },
            "baxis": {
             "endlinecolor": "#2a3f5f",
             "gridcolor": "white",
             "linecolor": "white",
             "minorgridcolor": "white",
             "startlinecolor": "#2a3f5f"
            },
            "type": "carpet"
           }
          ],
          "choropleth": [
           {
            "colorbar": {
             "outlinewidth": 0,
             "ticks": ""
            },
            "type": "choropleth"
           }
          ],
          "contour": [
           {
            "colorbar": {
             "outlinewidth": 0,
             "ticks": ""
            },
            "colorscale": [
             [
              0,
              "#0d0887"
             ],
             [
              0.1111111111111111,
              "#46039f"
             ],
             [
              0.2222222222222222,
              "#7201a8"
             ],
             [
              0.3333333333333333,
              "#9c179e"
             ],
             [
              0.4444444444444444,
              "#bd3786"
             ],
             [
              0.5555555555555556,
              "#d8576b"
             ],
             [
              0.6666666666666666,
              "#ed7953"
             ],
             [
              0.7777777777777778,
              "#fb9f3a"
             ],
             [
              0.8888888888888888,
              "#fdca26"
             ],
             [
              1,
              "#f0f921"
             ]
            ],
            "type": "contour"
           }
          ],
          "contourcarpet": [
           {
            "colorbar": {
             "outlinewidth": 0,
             "ticks": ""
            },
            "type": "contourcarpet"
           }
          ],
          "heatmap": [
           {
            "colorbar": {
             "outlinewidth": 0,
             "ticks": ""
            },
            "colorscale": [
             [
              0,
              "#0d0887"
             ],
             [
              0.1111111111111111,
              "#46039f"
             ],
             [
              0.2222222222222222,
              "#7201a8"
             ],
             [
              0.3333333333333333,
              "#9c179e"
             ],
             [
              0.4444444444444444,
              "#bd3786"
             ],
             [
              0.5555555555555556,
              "#d8576b"
             ],
             [
              0.6666666666666666,
              "#ed7953"
             ],
             [
              0.7777777777777778,
              "#fb9f3a"
             ],
             [
              0.8888888888888888,
              "#fdca26"
             ],
             [
              1,
              "#f0f921"
             ]
            ],
            "type": "heatmap"
           }
          ],
          "heatmapgl": [
           {
            "colorbar": {
             "outlinewidth": 0,
             "ticks": ""
            },
            "colorscale": [
             [
              0,
              "#0d0887"
             ],
             [
              0.1111111111111111,
              "#46039f"
             ],
             [
              0.2222222222222222,
              "#7201a8"
             ],
             [
              0.3333333333333333,
              "#9c179e"
             ],
             [
              0.4444444444444444,
              "#bd3786"
             ],
             [
              0.5555555555555556,
              "#d8576b"
             ],
             [
              0.6666666666666666,
              "#ed7953"
             ],
             [
              0.7777777777777778,
              "#fb9f3a"
             ],
             [
              0.8888888888888888,
              "#fdca26"
             ],
             [
              1,
              "#f0f921"
             ]
            ],
            "type": "heatmapgl"
           }
          ],
          "histogram": [
           {
            "marker": {
             "pattern": {
              "fillmode": "overlay",
              "size": 10,
              "solidity": 0.2
             }
            },
            "type": "histogram"
           }
          ],
          "histogram2d": [
           {
            "colorbar": {
             "outlinewidth": 0,
             "ticks": ""
            },
            "colorscale": [
             [
              0,
              "#0d0887"
             ],
             [
              0.1111111111111111,
              "#46039f"
             ],
             [
              0.2222222222222222,
              "#7201a8"
             ],
             [
              0.3333333333333333,
              "#9c179e"
             ],
             [
              0.4444444444444444,
              "#bd3786"
             ],
             [
              0.5555555555555556,
              "#d8576b"
             ],
             [
              0.6666666666666666,
              "#ed7953"
             ],
             [
              0.7777777777777778,
              "#fb9f3a"
             ],
             [
              0.8888888888888888,
              "#fdca26"
             ],
             [
              1,
              "#f0f921"
             ]
            ],
            "type": "histogram2d"
           }
          ],
          "histogram2dcontour": [
           {
            "colorbar": {
             "outlinewidth": 0,
             "ticks": ""
            },
            "colorscale": [
             [
              0,
              "#0d0887"
             ],
             [
              0.1111111111111111,
              "#46039f"
             ],
             [
              0.2222222222222222,
              "#7201a8"
             ],
             [
              0.3333333333333333,
              "#9c179e"
             ],
             [
              0.4444444444444444,
              "#bd3786"
             ],
             [
              0.5555555555555556,
              "#d8576b"
             ],
             [
              0.6666666666666666,
              "#ed7953"
             ],
             [
              0.7777777777777778,
              "#fb9f3a"
             ],
             [
              0.8888888888888888,
              "#fdca26"
             ],
             [
              1,
              "#f0f921"
             ]
            ],
            "type": "histogram2dcontour"
           }
          ],
          "mesh3d": [
           {
            "colorbar": {
             "outlinewidth": 0,
             "ticks": ""
            },
            "type": "mesh3d"
           }
          ],
          "parcoords": [
           {
            "line": {
             "colorbar": {
              "outlinewidth": 0,
              "ticks": ""
             }
            },
            "type": "parcoords"
           }
          ],
          "pie": [
           {
            "automargin": true,
            "type": "pie"
           }
          ],
          "scatter": [
           {
            "fillpattern": {
             "fillmode": "overlay",
             "size": 10,
             "solidity": 0.2
            },
            "type": "scatter"
           }
          ],
          "scatter3d": [
           {
            "line": {
             "colorbar": {
              "outlinewidth": 0,
              "ticks": ""
             }
            },
            "marker": {
             "colorbar": {
              "outlinewidth": 0,
              "ticks": ""
             }
            },
            "type": "scatter3d"
           }
          ],
          "scattercarpet": [
           {
            "marker": {
             "colorbar": {
              "outlinewidth": 0,
              "ticks": ""
             }
            },
            "type": "scattercarpet"
           }
          ],
          "scattergeo": [
           {
            "marker": {
             "colorbar": {
              "outlinewidth": 0,
              "ticks": ""
             }
            },
            "type": "scattergeo"
           }
          ],
          "scattergl": [
           {
            "marker": {
             "colorbar": {
              "outlinewidth": 0,
              "ticks": ""
             }
            },
            "type": "scattergl"
           }
          ],
          "scattermapbox": [
           {
            "marker": {
             "colorbar": {
              "outlinewidth": 0,
              "ticks": ""
             }
            },
            "type": "scattermapbox"
           }
          ],
          "scatterpolar": [
           {
            "marker": {
             "colorbar": {
              "outlinewidth": 0,
              "ticks": ""
             }
            },
            "type": "scatterpolar"
           }
          ],
          "scatterpolargl": [
           {
            "marker": {
             "colorbar": {
              "outlinewidth": 0,
              "ticks": ""
             }
            },
            "type": "scatterpolargl"
           }
          ],
          "scatterternary": [
           {
            "marker": {
             "colorbar": {
              "outlinewidth": 0,
              "ticks": ""
             }
            },
            "type": "scatterternary"
           }
          ],
          "surface": [
           {
            "colorbar": {
             "outlinewidth": 0,
             "ticks": ""
            },
            "colorscale": [
             [
              0,
              "#0d0887"
             ],
             [
              0.1111111111111111,
              "#46039f"
             ],
             [
              0.2222222222222222,
              "#7201a8"
             ],
             [
              0.3333333333333333,
              "#9c179e"
             ],
             [
              0.4444444444444444,
              "#bd3786"
             ],
             [
              0.5555555555555556,
              "#d8576b"
             ],
             [
              0.6666666666666666,
              "#ed7953"
             ],
             [
              0.7777777777777778,
              "#fb9f3a"
             ],
             [
              0.8888888888888888,
              "#fdca26"
             ],
             [
              1,
              "#f0f921"
             ]
            ],
            "type": "surface"
           }
          ],
          "table": [
           {
            "cells": {
             "fill": {
              "color": "#EBF0F8"
             },
             "line": {
              "color": "white"
             }
            },
            "header": {
             "fill": {
              "color": "#C8D4E3"
             },
             "line": {
              "color": "white"
             }
            },
            "type": "table"
           }
          ]
         },
         "layout": {
          "annotationdefaults": {
           "arrowcolor": "#2a3f5f",
           "arrowhead": 0,
           "arrowwidth": 1
          },
          "autotypenumbers": "strict",
          "coloraxis": {
           "colorbar": {
            "outlinewidth": 0,
            "ticks": ""
           }
          },
          "colorscale": {
           "diverging": [
            [
             0,
             "#8e0152"
            ],
            [
             0.1,
             "#c51b7d"
            ],
            [
             0.2,
             "#de77ae"
            ],
            [
             0.3,
             "#f1b6da"
            ],
            [
             0.4,
             "#fde0ef"
            ],
            [
             0.5,
             "#f7f7f7"
            ],
            [
             0.6,
             "#e6f5d0"
            ],
            [
             0.7,
             "#b8e186"
            ],
            [
             0.8,
             "#7fbc41"
            ],
            [
             0.9,
             "#4d9221"
            ],
            [
             1,
             "#276419"
            ]
           ],
           "sequential": [
            [
             0,
             "#0d0887"
            ],
            [
             0.1111111111111111,
             "#46039f"
            ],
            [
             0.2222222222222222,
             "#7201a8"
            ],
            [
             0.3333333333333333,
             "#9c179e"
            ],
            [
             0.4444444444444444,
             "#bd3786"
            ],
            [
             0.5555555555555556,
             "#d8576b"
            ],
            [
             0.6666666666666666,
             "#ed7953"
            ],
            [
             0.7777777777777778,
             "#fb9f3a"
            ],
            [
             0.8888888888888888,
             "#fdca26"
            ],
            [
             1,
             "#f0f921"
            ]
           ],
           "sequentialminus": [
            [
             0,
             "#0d0887"
            ],
            [
             0.1111111111111111,
             "#46039f"
            ],
            [
             0.2222222222222222,
             "#7201a8"
            ],
            [
             0.3333333333333333,
             "#9c179e"
            ],
            [
             0.4444444444444444,
             "#bd3786"
            ],
            [
             0.5555555555555556,
             "#d8576b"
            ],
            [
             0.6666666666666666,
             "#ed7953"
            ],
            [
             0.7777777777777778,
             "#fb9f3a"
            ],
            [
             0.8888888888888888,
             "#fdca26"
            ],
            [
             1,
             "#f0f921"
            ]
           ]
          },
          "colorway": [
           "#636efa",
           "#EF553B",
           "#00cc96",
           "#ab63fa",
           "#FFA15A",
           "#19d3f3",
           "#FF6692",
           "#B6E880",
           "#FF97FF",
           "#FECB52"
          ],
          "font": {
           "color": "#2a3f5f"
          },
          "geo": {
           "bgcolor": "white",
           "lakecolor": "white",
           "landcolor": "#E5ECF6",
           "showlakes": true,
           "showland": true,
           "subunitcolor": "white"
          },
          "hoverlabel": {
           "align": "left"
          },
          "hovermode": "closest",
          "mapbox": {
           "style": "light"
          },
          "paper_bgcolor": "white",
          "plot_bgcolor": "#E5ECF6",
          "polar": {
           "angularaxis": {
            "gridcolor": "white",
            "linecolor": "white",
            "ticks": ""
           },
           "bgcolor": "#E5ECF6",
           "radialaxis": {
            "gridcolor": "white",
            "linecolor": "white",
            "ticks": ""
           }
          },
          "scene": {
           "xaxis": {
            "backgroundcolor": "#E5ECF6",
            "gridcolor": "white",
            "gridwidth": 2,
            "linecolor": "white",
            "showbackground": true,
            "ticks": "",
            "zerolinecolor": "white"
           },
           "yaxis": {
            "backgroundcolor": "#E5ECF6",
            "gridcolor": "white",
            "gridwidth": 2,
            "linecolor": "white",
            "showbackground": true,
            "ticks": "",
            "zerolinecolor": "white"
           },
           "zaxis": {
            "backgroundcolor": "#E5ECF6",
            "gridcolor": "white",
            "gridwidth": 2,
            "linecolor": "white",
            "showbackground": true,
            "ticks": "",
            "zerolinecolor": "white"
           }
          },
          "shapedefaults": {
           "line": {
            "color": "#2a3f5f"
           }
          },
          "ternary": {
           "aaxis": {
            "gridcolor": "white",
            "linecolor": "white",
            "ticks": ""
           },
           "baxis": {
            "gridcolor": "white",
            "linecolor": "white",
            "ticks": ""
           },
           "bgcolor": "#E5ECF6",
           "caxis": {
            "gridcolor": "white",
            "linecolor": "white",
            "ticks": ""
           }
          },
          "title": {
           "x": 0.05
          },
          "xaxis": {
           "automargin": true,
           "gridcolor": "white",
           "linecolor": "white",
           "ticks": "",
           "title": {
            "standoff": 15
           },
           "zerolinecolor": "white",
           "zerolinewidth": 2
          },
          "yaxis": {
           "automargin": true,
           "gridcolor": "white",
           "linecolor": "white",
           "ticks": "",
           "title": {
            "standoff": 15
           },
           "zerolinecolor": "white",
           "zerolinewidth": 2
          }
         }
        },
        "title": {
         "text": "Top 50 stocks according to defined scores"
        },
        "xaxis": {
         "anchor": "y",
         "domain": [
          0,
          1
         ],
         "title": {
          "text": "Stock"
         }
        },
        "yaxis": {
         "anchor": "x",
         "domain": [
          0,
          1
         ],
         "title": {
          "text": "Score"
         }
        }
       }
      },
      "text/html": [
       "<div>                            <div id=\"11131a06-ba4d-45d2-aa06-5b9d04494b88\" class=\"plotly-graph-div\" style=\"height:525px; width:100%;\"></div>            <script type=\"text/javascript\">                require([\"plotly\"], function(Plotly) {                    window.PLOTLYENV=window.PLOTLYENV || {};                                    if (document.getElementById(\"11131a06-ba4d-45d2-aa06-5b9d04494b88\")) {                    Plotly.newPlot(                        \"11131a06-ba4d-45d2-aa06-5b9d04494b88\",                        [{\"alignmentgroup\":\"True\",\"hovertemplate\":\"Stock=%{x}<br>Score=%{y}<extra></extra>\",\"legendgroup\":\"\",\"marker\":{\"color\":\"#636efa\",\"pattern\":{\"shape\":\"\"}},\"name\":\"\",\"offsetgroup\":\"\",\"orientation\":\"v\",\"showlegend\":false,\"textposition\":\"auto\",\"x\":[\"SOND6\",\"UNIP5\",\"CTCA3\",\"PDTC3\",\"TASA4\",\"LEVE3\",\"RSUL3\",\"GGBR3\",\"TASA3\",\"PETR3\",\"UNIP6\",\"PETR4\",\"UNIP3\",\"VALE3\",\"MTSA4\",\"GGBR4\",\"SOND3\",\"SOND5\",\"EEEL3\",\"KEPL3\",\"BRQB3\",\"FESA4\",\"CAMB3\",\"CAMB4\",\"NRTQ3\",\"EUCA4\",\"ROMI3\",\"ITSA3\",\"ITSA4\",\"SUZB3\",\"EQPA3\",\"GPAR3\",\"SLCE3\",\"EEEL4\",\"FESA3\",\"TKNO4\",\"EUCA3\",\"STTR3\",\"EQPA7\",\"CMIN3\",\"VULC3\",\"CORR4\",\"CORR3\",\"RSUL4\",\"MTSA3\",\"GOAU3\",\"PTCA11\",\"PTBL3\",\"PTCA3\",\"CSRN6\"],\"xaxis\":\"x\",\"y\":[16,15,15,15,15,15,15,15,15,15,15,15,15,15,15,15,15,15,15,15,15,14,14,14,14,14,14,14,14,14,14,14,14,14,14,14,14,14,14,14,14,14,14,14,14,13,13,13,13,13],\"yaxis\":\"y\",\"type\":\"bar\"}],                        {\"template\":{\"data\":{\"histogram2dcontour\":[{\"type\":\"histogram2dcontour\",\"colorbar\":{\"outlinewidth\":0,\"ticks\":\"\"},\"colorscale\":[[0.0,\"#0d0887\"],[0.1111111111111111,\"#46039f\"],[0.2222222222222222,\"#7201a8\"],[0.3333333333333333,\"#9c179e\"],[0.4444444444444444,\"#bd3786\"],[0.5555555555555556,\"#d8576b\"],[0.6666666666666666,\"#ed7953\"],[0.7777777777777778,\"#fb9f3a\"],[0.8888888888888888,\"#fdca26\"],[1.0,\"#f0f921\"]]}],\"choropleth\":[{\"type\":\"choropleth\",\"colorbar\":{\"outlinewidth\":0,\"ticks\":\"\"}}],\"histogram2d\":[{\"type\":\"histogram2d\",\"colorbar\":{\"outlinewidth\":0,\"ticks\":\"\"},\"colorscale\":[[0.0,\"#0d0887\"],[0.1111111111111111,\"#46039f\"],[0.2222222222222222,\"#7201a8\"],[0.3333333333333333,\"#9c179e\"],[0.4444444444444444,\"#bd3786\"],[0.5555555555555556,\"#d8576b\"],[0.6666666666666666,\"#ed7953\"],[0.7777777777777778,\"#fb9f3a\"],[0.8888888888888888,\"#fdca26\"],[1.0,\"#f0f921\"]]}],\"heatmap\":[{\"type\":\"heatmap\",\"colorbar\":{\"outlinewidth\":0,\"ticks\":\"\"},\"colorscale\":[[0.0,\"#0d0887\"],[0.1111111111111111,\"#46039f\"],[0.2222222222222222,\"#7201a8\"],[0.3333333333333333,\"#9c179e\"],[0.4444444444444444,\"#bd3786\"],[0.5555555555555556,\"#d8576b\"],[0.6666666666666666,\"#ed7953\"],[0.7777777777777778,\"#fb9f3a\"],[0.8888888888888888,\"#fdca26\"],[1.0,\"#f0f921\"]]}],\"heatmapgl\":[{\"type\":\"heatmapgl\",\"colorbar\":{\"outlinewidth\":0,\"ticks\":\"\"},\"colorscale\":[[0.0,\"#0d0887\"],[0.1111111111111111,\"#46039f\"],[0.2222222222222222,\"#7201a8\"],[0.3333333333333333,\"#9c179e\"],[0.4444444444444444,\"#bd3786\"],[0.5555555555555556,\"#d8576b\"],[0.6666666666666666,\"#ed7953\"],[0.7777777777777778,\"#fb9f3a\"],[0.8888888888888888,\"#fdca26\"],[1.0,\"#f0f921\"]]}],\"contourcarpet\":[{\"type\":\"contourcarpet\",\"colorbar\":{\"outlinewidth\":0,\"ticks\":\"\"}}],\"contour\":[{\"type\":\"contour\",\"colorbar\":{\"outlinewidth\":0,\"ticks\":\"\"},\"colorscale\":[[0.0,\"#0d0887\"],[0.1111111111111111,\"#46039f\"],[0.2222222222222222,\"#7201a8\"],[0.3333333333333333,\"#9c179e\"],[0.4444444444444444,\"#bd3786\"],[0.5555555555555556,\"#d8576b\"],[0.6666666666666666,\"#ed7953\"],[0.7777777777777778,\"#fb9f3a\"],[0.8888888888888888,\"#fdca26\"],[1.0,\"#f0f921\"]]}],\"surface\":[{\"type\":\"surface\",\"colorbar\":{\"outlinewidth\":0,\"ticks\":\"\"},\"colorscale\":[[0.0,\"#0d0887\"],[0.1111111111111111,\"#46039f\"],[0.2222222222222222,\"#7201a8\"],[0.3333333333333333,\"#9c179e\"],[0.4444444444444444,\"#bd3786\"],[0.5555555555555556,\"#d8576b\"],[0.6666666666666666,\"#ed7953\"],[0.7777777777777778,\"#fb9f3a\"],[0.8888888888888888,\"#fdca26\"],[1.0,\"#f0f921\"]]}],\"mesh3d\":[{\"type\":\"mesh3d\",\"colorbar\":{\"outlinewidth\":0,\"ticks\":\"\"}}],\"scatter\":[{\"fillpattern\":{\"fillmode\":\"overlay\",\"size\":10,\"solidity\":0.2},\"type\":\"scatter\"}],\"parcoords\":[{\"type\":\"parcoords\",\"line\":{\"colorbar\":{\"outlinewidth\":0,\"ticks\":\"\"}}}],\"scatterpolargl\":[{\"type\":\"scatterpolargl\",\"marker\":{\"colorbar\":{\"outlinewidth\":0,\"ticks\":\"\"}}}],\"bar\":[{\"error_x\":{\"color\":\"#2a3f5f\"},\"error_y\":{\"color\":\"#2a3f5f\"},\"marker\":{\"line\":{\"color\":\"#E5ECF6\",\"width\":0.5},\"pattern\":{\"fillmode\":\"overlay\",\"size\":10,\"solidity\":0.2}},\"type\":\"bar\"}],\"scattergeo\":[{\"type\":\"scattergeo\",\"marker\":{\"colorbar\":{\"outlinewidth\":0,\"ticks\":\"\"}}}],\"scatterpolar\":[{\"type\":\"scatterpolar\",\"marker\":{\"colorbar\":{\"outlinewidth\":0,\"ticks\":\"\"}}}],\"histogram\":[{\"marker\":{\"pattern\":{\"fillmode\":\"overlay\",\"size\":10,\"solidity\":0.2}},\"type\":\"histogram\"}],\"scattergl\":[{\"type\":\"scattergl\",\"marker\":{\"colorbar\":{\"outlinewidth\":0,\"ticks\":\"\"}}}],\"scatter3d\":[{\"type\":\"scatter3d\",\"line\":{\"colorbar\":{\"outlinewidth\":0,\"ticks\":\"\"}},\"marker\":{\"colorbar\":{\"outlinewidth\":0,\"ticks\":\"\"}}}],\"scattermapbox\":[{\"type\":\"scattermapbox\",\"marker\":{\"colorbar\":{\"outlinewidth\":0,\"ticks\":\"\"}}}],\"scatterternary\":[{\"type\":\"scatterternary\",\"marker\":{\"colorbar\":{\"outlinewidth\":0,\"ticks\":\"\"}}}],\"scattercarpet\":[{\"type\":\"scattercarpet\",\"marker\":{\"colorbar\":{\"outlinewidth\":0,\"ticks\":\"\"}}}],\"carpet\":[{\"aaxis\":{\"endlinecolor\":\"#2a3f5f\",\"gridcolor\":\"white\",\"linecolor\":\"white\",\"minorgridcolor\":\"white\",\"startlinecolor\":\"#2a3f5f\"},\"baxis\":{\"endlinecolor\":\"#2a3f5f\",\"gridcolor\":\"white\",\"linecolor\":\"white\",\"minorgridcolor\":\"white\",\"startlinecolor\":\"#2a3f5f\"},\"type\":\"carpet\"}],\"table\":[{\"cells\":{\"fill\":{\"color\":\"#EBF0F8\"},\"line\":{\"color\":\"white\"}},\"header\":{\"fill\":{\"color\":\"#C8D4E3\"},\"line\":{\"color\":\"white\"}},\"type\":\"table\"}],\"barpolar\":[{\"marker\":{\"line\":{\"color\":\"#E5ECF6\",\"width\":0.5},\"pattern\":{\"fillmode\":\"overlay\",\"size\":10,\"solidity\":0.2}},\"type\":\"barpolar\"}],\"pie\":[{\"automargin\":true,\"type\":\"pie\"}]},\"layout\":{\"autotypenumbers\":\"strict\",\"colorway\":[\"#636efa\",\"#EF553B\",\"#00cc96\",\"#ab63fa\",\"#FFA15A\",\"#19d3f3\",\"#FF6692\",\"#B6E880\",\"#FF97FF\",\"#FECB52\"],\"font\":{\"color\":\"#2a3f5f\"},\"hovermode\":\"closest\",\"hoverlabel\":{\"align\":\"left\"},\"paper_bgcolor\":\"white\",\"plot_bgcolor\":\"#E5ECF6\",\"polar\":{\"bgcolor\":\"#E5ECF6\",\"angularaxis\":{\"gridcolor\":\"white\",\"linecolor\":\"white\",\"ticks\":\"\"},\"radialaxis\":{\"gridcolor\":\"white\",\"linecolor\":\"white\",\"ticks\":\"\"}},\"ternary\":{\"bgcolor\":\"#E5ECF6\",\"aaxis\":{\"gridcolor\":\"white\",\"linecolor\":\"white\",\"ticks\":\"\"},\"baxis\":{\"gridcolor\":\"white\",\"linecolor\":\"white\",\"ticks\":\"\"},\"caxis\":{\"gridcolor\":\"white\",\"linecolor\":\"white\",\"ticks\":\"\"}},\"coloraxis\":{\"colorbar\":{\"outlinewidth\":0,\"ticks\":\"\"}},\"colorscale\":{\"sequential\":[[0.0,\"#0d0887\"],[0.1111111111111111,\"#46039f\"],[0.2222222222222222,\"#7201a8\"],[0.3333333333333333,\"#9c179e\"],[0.4444444444444444,\"#bd3786\"],[0.5555555555555556,\"#d8576b\"],[0.6666666666666666,\"#ed7953\"],[0.7777777777777778,\"#fb9f3a\"],[0.8888888888888888,\"#fdca26\"],[1.0,\"#f0f921\"]],\"sequentialminus\":[[0.0,\"#0d0887\"],[0.1111111111111111,\"#46039f\"],[0.2222222222222222,\"#7201a8\"],[0.3333333333333333,\"#9c179e\"],[0.4444444444444444,\"#bd3786\"],[0.5555555555555556,\"#d8576b\"],[0.6666666666666666,\"#ed7953\"],[0.7777777777777778,\"#fb9f3a\"],[0.8888888888888888,\"#fdca26\"],[1.0,\"#f0f921\"]],\"diverging\":[[0,\"#8e0152\"],[0.1,\"#c51b7d\"],[0.2,\"#de77ae\"],[0.3,\"#f1b6da\"],[0.4,\"#fde0ef\"],[0.5,\"#f7f7f7\"],[0.6,\"#e6f5d0\"],[0.7,\"#b8e186\"],[0.8,\"#7fbc41\"],[0.9,\"#4d9221\"],[1,\"#276419\"]]},\"xaxis\":{\"gridcolor\":\"white\",\"linecolor\":\"white\",\"ticks\":\"\",\"title\":{\"standoff\":15},\"zerolinecolor\":\"white\",\"automargin\":true,\"zerolinewidth\":2},\"yaxis\":{\"gridcolor\":\"white\",\"linecolor\":\"white\",\"ticks\":\"\",\"title\":{\"standoff\":15},\"zerolinecolor\":\"white\",\"automargin\":true,\"zerolinewidth\":2},\"scene\":{\"xaxis\":{\"backgroundcolor\":\"#E5ECF6\",\"gridcolor\":\"white\",\"linecolor\":\"white\",\"showbackground\":true,\"ticks\":\"\",\"zerolinecolor\":\"white\",\"gridwidth\":2},\"yaxis\":{\"backgroundcolor\":\"#E5ECF6\",\"gridcolor\":\"white\",\"linecolor\":\"white\",\"showbackground\":true,\"ticks\":\"\",\"zerolinecolor\":\"white\",\"gridwidth\":2},\"zaxis\":{\"backgroundcolor\":\"#E5ECF6\",\"gridcolor\":\"white\",\"linecolor\":\"white\",\"showbackground\":true,\"ticks\":\"\",\"zerolinecolor\":\"white\",\"gridwidth\":2}},\"shapedefaults\":{\"line\":{\"color\":\"#2a3f5f\"}},\"annotationdefaults\":{\"arrowcolor\":\"#2a3f5f\",\"arrowhead\":0,\"arrowwidth\":1},\"geo\":{\"bgcolor\":\"white\",\"landcolor\":\"#E5ECF6\",\"subunitcolor\":\"white\",\"showland\":true,\"showlakes\":true,\"lakecolor\":\"white\"},\"title\":{\"x\":0.05},\"mapbox\":{\"style\":\"light\"}}},\"xaxis\":{\"anchor\":\"y\",\"domain\":[0.0,1.0],\"title\":{\"text\":\"Stock\"}},\"yaxis\":{\"anchor\":\"x\",\"domain\":[0.0,1.0],\"title\":{\"text\":\"Score\"}},\"legend\":{\"tracegroupgap\":0},\"title\":{\"text\":\"Top 50 stocks according to defined scores\"},\"barmode\":\"group\"},                        {\"responsive\": true}                    ).then(function(){\n",
       "                            \n",
       "var gd = document.getElementById('11131a06-ba4d-45d2-aa06-5b9d04494b88');\n",
       "var x = new MutationObserver(function (mutations, observer) {{\n",
       "        var display = window.getComputedStyle(gd).display;\n",
       "        if (!display || display === 'none') {{\n",
       "            console.log([gd, 'removed!']);\n",
       "            Plotly.purge(gd);\n",
       "            observer.disconnect();\n",
       "        }}\n",
       "}});\n",
       "\n",
       "// Listen for the removal of the full notebook cells\n",
       "var notebookContainer = gd.closest('#notebook-container');\n",
       "if (notebookContainer) {{\n",
       "    x.observe(notebookContainer, {childList: true});\n",
       "}}\n",
       "\n",
       "// Listen for the clearing of the current output cell\n",
       "var outputEl = gd.closest('.output');\n",
       "if (outputEl) {{\n",
       "    x.observe(outputEl, {childList: true});\n",
       "}}\n",
       "\n",
       "                        })                };                });            </script>        </div>"
      ]
     },
     "metadata": {},
     "output_type": "display_data"
    }
   ],
   "source": [
    "# Making the analysis - finding the best stock according to indexes defined\n",
    "\n",
    "# Add score based on conditions\n",
    "df['Score'] = 0  # Initialize Score column with 0s\n",
    "\n",
    "# Condition 1: Cell from Column1 > 8\n",
    "DY = df['DY'] > 8\n",
    "df.loc[DY, 'Score'] += 1\n",
    "\n",
    "# Condition 2: Cell from Column2 < 10\n",
    "PL = df['P/L'] < 10\n",
    "df.loc[PL, 'Score'] += 1\n",
    "\n",
    "# Condition 3: Cell from Column3 >= 15\n",
    "Margem_Bruta = df['MARGEM BRUTA'] >= 15\n",
    "df.loc[Margem_Bruta, 'Score'] += 1\n",
    "\n",
    "# Condition 4: Cell from Column1 > 10\n",
    "Margem_EBIT = df['MARGEM EBIT'] > 10\n",
    "df.loc[Margem_EBIT, 'Score'] += 1\n",
    "\n",
    "# Condition 5: Cell from Column2 > 10\n",
    "Margem_LIQ = df['MARG. LIQUIDA'] > 10\n",
    "df.loc[Margem_LIQ, 'Score'] += 1\n",
    "\n",
    "# Condition 6: Cell from Column3 < 3\n",
    "P_EBIT = df['P/EBIT'] < 3\n",
    "df.loc[P_EBIT, 'Score'] += 1\n",
    "\n",
    "# Condition 7: Cell from Column1 < 10\n",
    "EV_EBIT = df['EV/EBIT'] < 10\n",
    "df.loc[EV_EBIT, 'Score'] += 1\n",
    "\n",
    "# Condition 8: Cell from Column2 < 2\n",
    "DIV_LIQ_EBIT = df['DIVIDA LIQUIDA / EBIT'] < 2\n",
    "df.loc[DIV_LIQ_EBIT, 'Score'] += 1\n",
    "\n",
    "# Condition 9: Cell from Column3 < 1.5\n",
    "DIV_LIQ_PATRI = df['DIV. LIQ. / PATRI.'] < 1.5\n",
    "df.loc[DIV_LIQ_PATRI, 'Score'] += 1\n",
    "\n",
    "# Condition 10: Cell from Column1 > 1\n",
    "LIQ_Corrente = df['LIQ. CORRENTE'] > 1\n",
    "df.loc[LIQ_Corrente, 'Score'] += 1\n",
    "\n",
    "# Condition 11: Cell from Column2 > 10\n",
    "ROE = df['ROE'] > 10\n",
    "df.loc[ROE, 'Score'] += 1\n",
    "\n",
    "# Condition 12: Cell from Column3 > 10\n",
    "ROA = df['ROA'] > 10\n",
    "df.loc[ROA, 'Score'] += 1\n",
    "\n",
    "# Condition 13: Cell from Column1 > 10\n",
    "ROIC = df['ROIC'] > 10\n",
    "df.loc[ROIC, 'Score'] += 1\n",
    "\n",
    "# Condition 14: Cell from Column2 < 1\n",
    "Pass_ativos = df['PASSIVOS / ATIVOS'] < 1\n",
    "df.loc[Pass_ativos, 'Score'] += 1\n",
    "\n",
    "# Condition 15: Cell from Column3 > 10\n",
    "CAGR_REC_FIVE = df['CAGR RECEITAS 5 ANOS'] > 10\n",
    "df.loc[CAGR_REC_FIVE, 'Score'] += 1\n",
    "\n",
    "# Condition 16: Cell from Column3 > 10\n",
    "CAGR_LUC_FIVE = df['CAGR LUCROS 5 ANOS'] > 10\n",
    "df.loc[CAGR_LUC_FIVE, 'Score'] += 1\n",
    "\n",
    "# Sort by Score in descending order\n",
    "df = df.sort_values('Score', ascending=False)\n",
    "\n",
    "# Print the modified DataFrame\n",
    "#df.head()\n",
    "\n",
    "# Visualizing the top 50 stocks according the indexes defined\n",
    "import matplotlib.pyplot as plt\n",
    "import plotly.express as px\n",
    "\n",
    "fig = px.bar(df.head(50), x='TICKER', y='Score', barmode=\"group\", labels={\n",
    "                     \"TICKER\": \"Stock\",\n",
    "                     \"Score\": \"Score\"}, title=\"Top 50 stocks according to defined scores\")\n",
    "\n",
    "fig"
   ]
  }
 ],
 "metadata": {
  "kernelspec": {
   "display_name": "Python 3 (ipykernel)",
   "language": "python",
   "name": "python3"
  },
  "language_info": {
   "codemirror_mode": {
    "name": "ipython",
    "version": 3
   },
   "file_extension": ".py",
   "mimetype": "text/x-python",
   "name": "python",
   "nbconvert_exporter": "python",
   "pygments_lexer": "ipython3",
   "version": "3.9.15"
  }
 },
 "nbformat": 4,
 "nbformat_minor": 5
}
